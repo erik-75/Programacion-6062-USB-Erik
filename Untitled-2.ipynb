{
 "cells": [
  {
   "cell_type": "code",
   "execution_count": 5,
   "metadata": {},
   "outputs": [
    {
     "name": "stdout",
     "output_type": "stream",
     "text": [
      "e0!-w%,.\n"
     ]
    }
   ],
   "source": [
    "import random\n",
    "random.seed(1234)\n",
    "\n",
    "chars = '!\"#$%&()*+,-./0123456789?@ABCDEFGHIJKLMNOPQRSTUVWXYZabcdefghijklmnopqrstuvwxyz'\n",
    "password = ''\n",
    "\n",
    "lengthPW = int(input('Que lomgitud quieres para tu contraseña'))\n",
    "\n",
    "for _ in range(lengthPW):\n",
    "        \n",
    "        password += random.choice(chars)\n",
    "print(password)\n",
    "\n"
   ]
  },
  {
   "cell_type": "code",
   "execution_count": 6,
   "metadata": {},
   "outputs": [
    {
     "name": "stdout",
     "output_type": "stream",
     "text": [
      "Contraseña incorrecta, Introduzca una contraseña correcta\n",
      "contraseña correcta\n"
     ]
    }
   ],
   "source": [
    "contraseña =\"Computadora\"\n",
    "contador = 0\n",
    "\n",
    "while True:\n",
    "    contraseña_input = input(\"Introduzca una contraseña\")\n",
    "    contador +=1\n",
    "\n",
    "    if contador > 3:\n",
    "        print(\"haz sobrepasado los intentos\")\n",
    "\n",
    "    elif contraseña_input == \"Computadora\":\n",
    "        print(\"contraseña correcta\")\n",
    "        break\n",
    "    else:\n",
    "        print(\"Contraseña incorrecta, Introduzca una contraseña correcta\") "
   ]
  },
  {
   "cell_type": "code",
   "execution_count": 5,
   "metadata": {},
   "outputs": [
    {
     "name": "stdout",
     "output_type": "stream",
     "text": [
      "Ganaste\n"
     ]
    }
   ],
   "source": [
    "import random\n",
    "for i in range(1):\n",
    "        jugador = input(\"Elige piedra, papel o tijeras\").lower()\n",
    "        \n",
    "def play():\n",
    "    user = input(\"Elige 'r' para piedra, 'p' para papel, 's' para tijeras\\n\")\n",
    "    computer = random.choice(['r', 'p', 's'])  \n",
    "    \n",
    "   \n",
    "    if user == computer:\n",
    "        return \"Es un empate\"\n",
    "    \n",
    "    if is_win(user, computer):\n",
    "        return 'Ganaste'\n",
    "    \n",
    "    return 'Perdiste'\n",
    "\n",
    "def is_win(player, opponent):\n",
    "    if (player == 'r' and opponent == 's') or (player == 's' and opponent == 'p') or (player == 'p' and opponent == 'r'):\n",
    "        return True\n",
    "    return False\n",
    "\n",
    "# Llamada principal al juego\n",
    "if __name__ == \"__main__\":\n",
    "    print(play())\n"
   ]
  },
  {
   "cell_type": "code",
   "execution_count": 6,
   "metadata": {},
   "outputs": [
    {
     "name": "stdout",
     "output_type": "stream",
     "text": [
      "juego1:\n",
      "Es un empate\n",
      "\n",
      "juego2:\n",
      "Es un empate\n",
      "\n",
      "juego3:\n",
      "Ganaste\n",
      "\n"
     ]
    }
   ],
   "source": [
    "for i in range(3):\n",
    "        print(f\"juego{i + 1}:\")\n",
    "        resultado = play()\n",
    "        print(resultado)\n",
    "        print()"
   ]
  }
 ],
 "metadata": {
  "kernelspec": {
   "display_name": "Python 3",
   "language": "python",
   "name": "python3"
  },
  "language_info": {
   "codemirror_mode": {
    "name": "ipython",
    "version": 3
   },
   "file_extension": ".py",
   "mimetype": "text/x-python",
   "name": "python",
   "nbconvert_exporter": "python",
   "pygments_lexer": "ipython3",
   "version": "3.11.9"
  }
 },
 "nbformat": 4,
 "nbformat_minor": 2
}
